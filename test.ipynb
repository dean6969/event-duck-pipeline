{
 "cells": [
  {
   "cell_type": "code",
   "execution_count": 20,
   "id": "a528439b",
   "metadata": {},
   "outputs": [],
   "source": [
    "import duckdb"
   ]
  },
  {
   "cell_type": "code",
   "execution_count": 21,
   "id": "55a2eafa",
   "metadata": {},
   "outputs": [],
   "source": [
    "con = duckdb.connect(\"db/event_prod.db\")"
   ]
  },
  {
   "cell_type": "code",
   "execution_count": 22,
   "id": "cced646a",
   "metadata": {},
   "outputs": [
    {
     "data": {
      "text/plain": [
       "┌────────────────────────────┬────────────────────┬─────────┬────────────────────────────┐\n",
       "│         timestamp          │     file_name      │ status  │          type_log          │\n",
       "│         timestamp          │      varchar       │ varchar │          varchar           │\n",
       "├────────────────────────────┼────────────────────┼─────────┼────────────────────────────┤\n",
       "│ 2025-09-15 12:40:59.531666 │ 2025-05-01.parquet │ success │ check_incremental_load_stg │\n",
       "│ 2025-09-15 12:41:08.805752 │ 2025-05-02.parquet │ success │ check_incremental_load_stg │\n",
       "│ 2025-09-15 12:41:19.741825 │ 2025-05-03.parquet │ success │ check_incremental_load_stg │\n",
       "│ 2025-09-15 12:50:38.51323  │ 2025-05-04.parquet │ success │ check_incremental_load_stg │\n",
       "│ 2025-09-15 13:34:06.300222 │ 2025-05-05.parquet │ pending │ check_incremental_load_stg │\n",
       "│ 2025-09-15 13:34:06.363551 │ 2025-05-06.parquet │ pending │ check_incremental_load_stg │\n",
       "│ 2025-09-15 13:34:06.421238 │ 2025-05-07.parquet │ pending │ check_incremental_load_stg │\n",
       "│ 2025-09-15 13:34:06.481022 │ 2025-05-08.parquet │ pending │ check_incremental_load_stg │\n",
       "│ 2025-09-15 13:34:06.545493 │ 2025-05-09.parquet │ pending │ check_incremental_load_stg │\n",
       "│ 2025-09-15 13:34:21.756259 │ 2025-05-10.parquet │ success │ check_incremental_load_stg │\n",
       "│             ·              │         ·          │    ·    │             ·              │\n",
       "│             ·              │         ·          │    ·    │             ·              │\n",
       "│             ·              │         ·          │    ·    │             ·              │\n",
       "│ 2025-09-15 13:34:07.362503 │ 2025-05-22.parquet │ pending │ check_incremental_load_stg │\n",
       "│ 2025-09-15 13:34:07.428779 │ 2025-05-23.parquet │ pending │ check_incremental_load_stg │\n",
       "│ 2025-09-15 13:34:07.494969 │ 2025-05-24.parquet │ pending │ check_incremental_load_stg │\n",
       "│ 2025-09-15 13:34:07.56371  │ 2025-05-25.parquet │ pending │ check_incremental_load_stg │\n",
       "│ 2025-09-15 13:34:07.634559 │ 2025-05-26.parquet │ pending │ check_incremental_load_stg │\n",
       "│ 2025-09-15 13:34:07.702457 │ 2025-05-27.parquet │ pending │ check_incremental_load_stg │\n",
       "│ 2025-09-15 13:34:07.764098 │ 2025-05-28.parquet │ pending │ check_incremental_load_stg │\n",
       "│ 2025-09-15 13:34:07.826305 │ 2025-05-29.parquet │ pending │ check_incremental_load_stg │\n",
       "│ 2025-09-15 13:34:07.904591 │ 2025-05-30.parquet │ pending │ check_incremental_load_stg │\n",
       "│ 2025-09-15 13:34:07.970821 │ 2025-05-31.parquet │ pending │ check_incremental_load_stg │\n",
       "├────────────────────────────┴────────────────────┴─────────┴────────────────────────────┤\n",
       "│ 31 rows (20 shown)                                                           4 columns │\n",
       "└────────────────────────────────────────────────────────────────────────────────────────┘"
      ]
     },
     "execution_count": 22,
     "metadata": {},
     "output_type": "execute_result"
    }
   ],
   "source": [
    "con.sql(\"select * from etl_log\")"
   ]
  },
  {
   "cell_type": "code",
   "execution_count": 23,
   "id": "a2cfa176",
   "metadata": {},
   "outputs": [
    {
     "ename": "CatalogException",
     "evalue": "Catalog Error: Table with name st does not exist!\nDid you mean \"stg_v_context\"?",
     "output_type": "error",
     "traceback": [
      "\u001b[31m---------------------------------------------------------------------------\u001b[39m",
      "\u001b[31mCatalogException\u001b[39m                          Traceback (most recent call last)",
      "\u001b[36mCell\u001b[39m\u001b[36m \u001b[39m\u001b[32mIn[23]\u001b[39m\u001b[32m, line 1\u001b[39m\n\u001b[32m----> \u001b[39m\u001b[32m1\u001b[39m \u001b[43mcon\u001b[49m\u001b[43m.\u001b[49m\u001b[43msql\u001b[49m\u001b[43m(\u001b[49m\u001b[33;43m\"\u001b[39;49m\u001b[33;43mselect count(*) from st\u001b[39;49m\u001b[33;43m\"\u001b[39;49m\u001b[43m)\u001b[49m\n",
      "\u001b[31mCatalogException\u001b[39m: Catalog Error: Table with name st does not exist!\nDid you mean \"stg_v_context\"?"
     ]
    }
   ],
   "source": [
    "con.sql(\"select count(*) from st\")"
   ]
  },
  {
   "cell_type": "code",
   "execution_count": 24,
   "id": "dea16733",
   "metadata": {},
   "outputs": [],
   "source": [
    "con.close()"
   ]
  }
 ],
 "metadata": {
  "kernelspec": {
   "display_name": "Python 3",
   "language": "python",
   "name": "python3"
  },
  "language_info": {
   "codemirror_mode": {
    "name": "ipython",
    "version": 3
   },
   "file_extension": ".py",
   "mimetype": "text/x-python",
   "name": "python",
   "nbconvert_exporter": "python",
   "pygments_lexer": "ipython3",
   "version": "3.13.3"
  }
 },
 "nbformat": 4,
 "nbformat_minor": 5
}
